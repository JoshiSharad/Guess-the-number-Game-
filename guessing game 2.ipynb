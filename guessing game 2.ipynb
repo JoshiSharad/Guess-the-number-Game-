{
 "cells": [
  {
   "cell_type": "code",
   "execution_count": 6,
   "metadata": {},
   "outputs": [],
   "source": [
    "import random \n",
    "\n",
    "def computer_guess(x):\n",
    "    low= 1\n",
    "    high=x\n",
    "    feedback=''\n",
    "    while feedback != 'c':\n",
    "        if low!= high:\n",
    "            guess= random.randint(low,high)\n",
    "        else:\n",
    "            guess= low\n",
    "            \n",
    "        # Taking feedback from the user whether high,low or correct\n",
    "        feedback= input(f'Is the {guess} too high(H), too low(L) or correct(C)??').lower()\n",
    "        # when random number is high-->adjust the range\n",
    "        if feedback== 'h':\n",
    "            high= guess-1\n",
    "        \n",
    "        #when random number is low---> adjust the range\n",
    "        elif feedback== 'l':\n",
    "            low= guess+1 \n",
    "    \n",
    "    # when random number is correct\n",
    "    print('The computer guessed your number')"
   ]
  },
  {
   "cell_type": "code",
   "execution_count": null,
   "metadata": {},
   "outputs": [],
   "source": []
  },
  {
   "cell_type": "code",
   "execution_count": null,
   "metadata": {},
   "outputs": [],
   "source": []
  }
 ],
 "metadata": {
  "kernelspec": {
   "display_name": "Python 3",
   "language": "python",
   "name": "python3"
  },
  "language_info": {
   "codemirror_mode": {
    "name": "ipython",
    "version": 3
   },
   "file_extension": ".py",
   "mimetype": "text/x-python",
   "name": "python",
   "nbconvert_exporter": "python",
   "pygments_lexer": "ipython3",
   "version": "3.8.5"
  }
 },
 "nbformat": 4,
 "nbformat_minor": 4
}
