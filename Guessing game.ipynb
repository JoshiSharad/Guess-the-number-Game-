{
 "cells": [
  {
   "cell_type": "code",
   "execution_count": 1,
   "metadata": {},
   "outputs": [],
   "source": [
    "import random\n",
    "def guess(x):\n",
    "    random_number= random.randint(1,x)\n",
    "    guess=0\n",
    "    while guess!= random_number:\n",
    "        guess= int(input('Guess a number between 1 and {}: '.format(x)))\n",
    "        \n",
    "        #when guess is less than the actual number\n",
    "        if guess< random_number:\n",
    "            print('The number guessed is too low. Guess again ')\n",
    "            \n",
    "        #when guess is greater than the actual number\n",
    "        elif guess> random_number:\n",
    "            print(' The number guessed is too high. Guess again')\n",
    "    \n",
    "    #when you make the right guess     \n",
    "    print('Congratulations!!! You guessed it right')\n",
    "    \n"
   ]
  },
  {
   "cell_type": "code",
   "execution_count": null,
   "metadata": {},
   "outputs": [],
   "source": []
  },
  {
   "cell_type": "code",
   "execution_count": null,
   "metadata": {},
   "outputs": [],
   "source": []
  },
  {
   "cell_type": "code",
   "execution_count": null,
   "metadata": {},
   "outputs": [],
   "source": []
  },
  {
   "cell_type": "code",
   "execution_count": null,
   "metadata": {},
   "outputs": [],
   "source": []
  }
 ],
 "metadata": {
  "kernelspec": {
   "display_name": "Python 3",
   "language": "python",
   "name": "python3"
  },
  "language_info": {
   "codemirror_mode": {
    "name": "ipython",
    "version": 3
   },
   "file_extension": ".py",
   "mimetype": "text/x-python",
   "name": "python",
   "nbconvert_exporter": "python",
   "pygments_lexer": "ipython3",
   "version": "3.8.5"
  }
 },
 "nbformat": 4,
 "nbformat_minor": 4
}
